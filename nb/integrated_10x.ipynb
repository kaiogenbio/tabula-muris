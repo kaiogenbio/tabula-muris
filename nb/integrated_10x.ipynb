{
 "cells": [
  {
   "cell_type": "code",
   "execution_count": 1,
   "id": "a978616a",
   "metadata": {},
   "outputs": [],
   "source": [
    "import scanpy as sc\n",
    "from bioinfutils.plotting import plot_anndata_scatter\n",
    "\n",
    "sc.settings.verbosity = 3"
   ]
  },
  {
   "cell_type": "code",
   "execution_count": 2,
   "id": "939da024",
   "metadata": {},
   "outputs": [],
   "source": [
    "adata_concat = sc.read_h5ad(\"../integrated/10x/concatenated.h5ad\")\n",
    "adata_scvi = sc.read_h5ad(\"../integrated/10x/scvi-integrated.h5ad\")"
   ]
  },
  {
   "cell_type": "code",
   "execution_count": 3,
   "id": "8f76afaa",
   "metadata": {},
   "outputs": [],
   "source": [
    "def prep_adata(adata, rep=None):\n",
    "    sc.tl.pca(adata, svd_solver=\"arpack\")\n",
    "    sc.pp.neighbors(adata, n_neighbors=10, n_pcs=30 if rep is None else None, use_rep=rep)\n",
    "    sc.tl.umap(adata)\n",
    "    sc.tl.leiden(adata)"
   ]
  },
  {
   "cell_type": "code",
   "execution_count": 4,
   "id": "4cf98d27",
   "metadata": {},
   "outputs": [],
   "source": [
    "def show_plots(adata):\n",
    "    sc.set_figure_params(dpi=150, figsize=(8, 8))\n",
    "    sc.pl.umap(adata, color=[\"leiden\"], frameon=False)\n",
    "    sc.pl.umap(adata, color=[\"tissue\"], frameon=False)\n",
    "    sc.pl.umap(adata, color=[\"channel\"], frameon=False)\n",
    "    sc.pl.umap(adata, color=[\"cell_ontology_class\"], frameon=False, legend_loc=\"right margin\", legend_fontsize=\"xx-small\", legend_fontweight=\"light\")"
   ]
  },
  {
   "cell_type": "code",
   "execution_count": 5,
   "id": "f13167b7",
   "metadata": {},
   "outputs": [
    {
     "name": "stdout",
     "output_type": "stream",
     "text": [
      "computing PCA\n",
      "    with n_comps=50\n",
      "    finished (0:00:20)\n",
      "computing neighbors\n",
      "    using 'X_pca' with n_pcs = 30\n",
      "    finished: added to `.uns['neighbors']`\n",
      "    `.obsp['distances']`, distances for each pair of neighbors\n",
      "    `.obsp['connectivities']`, weighted adjacency matrix (0:00:14)\n",
      "computing UMAP\n",
      "    finished: added\n",
      "    'X_umap', UMAP coordinates (adata.obsm) (0:00:20)\n",
      "running Leiden clustering\n",
      "    finished: found 56 clusters and added\n",
      "    'leiden', the cluster labels (adata.obs, categorical) (0:00:11)\n"
     ]
    }
   ],
   "source": [
    "prep_adata(adata_concat)"
   ]
  },
  {
   "cell_type": "code",
   "execution_count": 6,
   "id": "986ad6ef",
   "metadata": {},
   "outputs": [
    {
     "name": "stdout",
     "output_type": "stream",
     "text": [
      "computing PCA\n",
      "    with n_comps=50\n",
      "    finished (0:00:20)\n",
      "computing neighbors\n",
      "    finished: added to `.uns['neighbors']`\n",
      "    `.obsp['distances']`, distances for each pair of neighbors\n",
      "    `.obsp['connectivities']`, weighted adjacency matrix (0:00:02)\n",
      "computing UMAP\n",
      "    finished: added\n",
      "    'X_umap', UMAP coordinates (adata.obsm) (0:00:17)\n",
      "running Leiden clustering\n",
      "    finished: found 55 clusters and added\n",
      "    'leiden', the cluster labels (adata.obs, categorical) (0:00:15)\n"
     ]
    }
   ],
   "source": [
    "prep_adata(adata_scvi, rep=\"X_scVI\")"
   ]
  },
  {
   "cell_type": "code",
   "execution_count": 13,
   "id": "c29fa854",
   "metadata": {
    "scrolled": false
   },
   "outputs": [],
   "source": [
    "# plot_anndata_scatter(adata_scvi, show=True)"
   ]
  },
  {
   "cell_type": "code",
   "execution_count": 12,
   "id": "d9d9a7be",
   "metadata": {},
   "outputs": [],
   "source": [
    "# plot_anndata_scatter(adata_scvi, groupby=\"cell_ontology_class\", show=True)"
   ]
  },
  {
   "cell_type": "code",
   "execution_count": 9,
   "id": "bd103de8",
   "metadata": {},
   "outputs": [],
   "source": [
    "fig, config = plot_anndata_scatter(adata_scvi, groupby=\"cell_ontology_class\", show=False)\n",
    "fig.write_html(\"../docs/adata_scvi_celltype.html\", config=config)"
   ]
  },
  {
   "cell_type": "code",
   "execution_count": 17,
   "id": "f7975ee5",
   "metadata": {
    "scrolled": true
   },
   "outputs": [],
   "source": [
    "# plot_anndata_scatter(adata_scvi, groupby=\"leiden\", show=True)"
   ]
  },
  {
   "cell_type": "code",
   "execution_count": 16,
   "id": "1a986d38",
   "metadata": {},
   "outputs": [],
   "source": [
    "fig, config = plot_anndata_scatter(adata_scvi, groupby=\"tissue\", show=False)\n",
    "fig.write_html(\"../docs/adata_scvi_tissue.html\", config=config)"
   ]
  },
  {
   "cell_type": "code",
   "execution_count": null,
   "id": "59e13b90",
   "metadata": {},
   "outputs": [],
   "source": []
  }
 ],
 "metadata": {
  "kernelspec": {
   "display_name": "bioinf-python3.7",
   "language": "python",
   "name": "bioinf-python3.7"
  },
  "language_info": {
   "codemirror_mode": {
    "name": "ipython",
    "version": 3
   },
   "file_extension": ".py",
   "mimetype": "text/x-python",
   "name": "python",
   "nbconvert_exporter": "python",
   "pygments_lexer": "ipython3",
   "version": "3.7.16"
  }
 },
 "nbformat": 4,
 "nbformat_minor": 5
}
