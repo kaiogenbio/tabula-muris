{
 "cells": [
  {
   "cell_type": "code",
   "execution_count": null,
   "id": "e25a9659",
   "metadata": {},
   "outputs": [],
   "source": [
    "DATA_DIR_10X = Path(\"../raw/10x_v2/droplet/\")\n",
    "DATA_DIR_SS2 = Path(\"../raw/ss2_v2/FACS/\")\n",
    "\n",
    "bladder_p4_3_fname = DATA_DIR_10X / \"Bladder-10X_P4_3\"\n",
    "pancreas_fname = DATA_DIR_SS2 / \"Pancreas-counts.csv\"\n",
    "\n",
    "adata_10x_bladder = sc.read_10x_mtx(bladder_p4_3_fname, var_names=\"gene_symbols\")\n",
    "\n",
    "genes_10x = set(adata_10x_bladder.var_names)\n",
    "genes_10x ^ genes_ss2 # symmetric difference"
   ]
  }
 ],
 "metadata": {
  "kernelspec": {
   "display_name": "bioinf-python3.7",
   "language": "python",
   "name": "bioinf-python3.7"
  },
  "language_info": {
   "codemirror_mode": {
    "name": "ipython",
    "version": 3
   },
   "file_extension": ".py",
   "mimetype": "text/x-python",
   "name": "python",
   "nbconvert_exporter": "python",
   "pygments_lexer": "ipython3",
   "version": "3.7.16"
  }
 },
 "nbformat": 4,
 "nbformat_minor": 5
}
